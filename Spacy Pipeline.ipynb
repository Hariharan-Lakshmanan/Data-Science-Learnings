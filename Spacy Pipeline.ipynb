{
 "cells": [
  {
   "cell_type": "code",
   "execution_count": 3,
   "id": "18931c59",
   "metadata": {},
   "outputs": [],
   "source": [
    "import spacy"
   ]
  },
  {
   "cell_type": "markdown",
   "id": "ebc43c02",
   "metadata": {},
   "source": [
    "A blank model does not contains any pipeline but it does have a tokenizer by default."
   ]
  },
  {
   "cell_type": "code",
   "execution_count": 12,
   "id": "56d4b3b1",
   "metadata": {},
   "outputs": [
    {
     "name": "stdout",
     "output_type": "stream",
     "text": [
      "Captain\n",
      "America\n",
      "ate\n",
      "100\n",
      "$\n",
      "worth\n",
      "of\n",
      "samosa\n",
      ".\n",
      "Then\n",
      "he\n",
      "said\n",
      "I\n",
      "can\n",
      "do\n",
      "this\n",
      "all\n",
      "day\n",
      ".\n"
     ]
    }
   ],
   "source": [
    "nlp = spacy.blank('en')\n",
    "\n",
    "doc = nlp('Captain America ate 100$ worth of samosa. Then he said I can do this all day.')\n",
    "for token in doc:\n",
    "    print(token)"
   ]
  },
  {
   "cell_type": "code",
   "execution_count": 5,
   "id": "673f5ddd",
   "metadata": {},
   "outputs": [
    {
     "data": {
      "text/plain": [
       "[]"
      ]
     },
     "execution_count": 5,
     "metadata": {},
     "output_type": "execute_result"
    }
   ],
   "source": [
    "nlp.pipe_names"
   ]
  },
  {
   "cell_type": "code",
   "execution_count": 8,
   "id": "f3979508",
   "metadata": {},
   "outputs": [
    {
     "name": "stdout",
     "output_type": "stream",
     "text": [
      "Collecting en-core-web-sm==3.8.0\n",
      "  Downloading https://github.com/explosion/spacy-models/releases/download/en_core_web_sm-3.8.0/en_core_web_sm-3.8.0-py3-none-any.whl (12.8 MB)\n",
      "     ---------------------------------------- 0.0/12.8 MB ? eta -:--:--\n",
      "      --------------------------------------- 0.3/12.8 MB ? eta -:--:--\n",
      "     ---- ----------------------------------- 1.3/12.8 MB 4.8 MB/s eta 0:00:03\n",
      "     --------- ------------------------------ 2.9/12.8 MB 6.5 MB/s eta 0:00:02\n",
      "     -------------- ------------------------- 4.7/12.8 MB 7.0 MB/s eta 0:00:02\n",
      "     -------------------- ------------------- 6.6/12.8 MB 7.5 MB/s eta 0:00:01\n",
      "     ----------------------- ---------------- 7.6/12.8 MB 7.2 MB/s eta 0:00:01\n",
      "     -------------------------- ------------- 8.4/12.8 MB 6.3 MB/s eta 0:00:01\n",
      "     --------------------------- ------------ 8.9/12.8 MB 5.7 MB/s eta 0:00:01\n",
      "     ----------------------------- ---------- 9.4/12.8 MB 5.3 MB/s eta 0:00:01\n",
      "     ------------------------------- -------- 10.0/12.8 MB 5.0 MB/s eta 0:00:01\n",
      "     -------------------------------- ------- 10.5/12.8 MB 4.7 MB/s eta 0:00:01\n",
      "     ---------------------------------- ----- 11.0/12.8 MB 4.5 MB/s eta 0:00:01\n",
      "     ------------------------------------ --- 11.5/12.8 MB 4.4 MB/s eta 0:00:01\n",
      "     ------------------------------------- -- 12.1/12.8 MB 4.3 MB/s eta 0:00:01\n",
      "     ---------------------------------------  12.6/12.8 MB 4.2 MB/s eta 0:00:01\n",
      "     ---------------------------------------- 12.8/12.8 MB 4.1 MB/s eta 0:00:00\n",
      "Installing collected packages: en-core-web-sm\n",
      "Successfully installed en-core-web-sm-3.8.0\n",
      "\u001b[38;5;2m✔ Download and installation successful\u001b[0m\n",
      "You can now load the package via spacy.load('en_core_web_sm')\n"
     ]
    },
    {
     "name": "stderr",
     "output_type": "stream",
     "text": [
      "\n",
      "[notice] A new release of pip is available: 24.2 -> 25.0.1\n",
      "[notice] To update, run: python.exe -m pip install --upgrade pip\n"
     ]
    }
   ],
   "source": [
    "!python -m spacy download en_core_web_sm"
   ]
  },
  {
   "cell_type": "code",
   "execution_count": 14,
   "id": "79eabf16",
   "metadata": {},
   "outputs": [],
   "source": [
    "nlp = spacy.load('en_core_web_sm')"
   ]
  },
  {
   "cell_type": "code",
   "execution_count": 10,
   "id": "4b676192",
   "metadata": {},
   "outputs": [
    {
     "data": {
      "text/plain": [
       "['tok2vec', 'tagger', 'parser', 'attribute_ruler', 'lemmatizer', 'ner']"
      ]
     },
     "execution_count": 10,
     "metadata": {},
     "output_type": "execute_result"
    }
   ],
   "source": [
    "nlp.pipe_names"
   ]
  },
  {
   "cell_type": "code",
   "execution_count": 15,
   "id": "070b2262",
   "metadata": {},
   "outputs": [
    {
     "name": "stdout",
     "output_type": "stream",
     "text": [
      "Captain  |  PROPN  |  Captain\n",
      "America  |  PROPN  |  America\n",
      "ate  |  VERB  |  eat\n",
      "100  |  NUM  |  100\n",
      "$  |  SYM  |  $\n",
      "worth  |  NOUN  |  worth\n",
      "of  |  ADP  |  of\n",
      "samosa  |  PROPN  |  samosa\n",
      ".  |  PUNCT  |  .\n",
      "Then  |  ADV  |  then\n",
      "he  |  PRON  |  he\n",
      "said  |  VERB  |  say\n",
      "I  |  PRON  |  I\n",
      "can  |  AUX  |  can\n",
      "do  |  VERB  |  do\n",
      "this  |  PRON  |  this\n",
      "all  |  DET  |  all\n",
      "day  |  NOUN  |  day\n",
      ".  |  PUNCT  |  .\n"
     ]
    }
   ],
   "source": [
    "doc = nlp('Captain America ate 100$ worth of samosa. Then he said I can do this all day.')\n",
    "for token in doc:\n",
    "    print(token, ' | ', token.pos_, ' | ', token.lemma_)"
   ]
  },
  {
   "cell_type": "code",
   "execution_count": null,
   "id": "ebad9f43",
   "metadata": {},
   "outputs": [],
   "source": [
    "nlp = spacy.blank('en')doc = nlp('Captain America ate 100$ worth of samosa. Then he said I can do this all day.')\n",
    "\n",
    "for ent in doc.ents:\n",
    "    print(ent.text, ' | ', ent.start_char, ' | ', ent.end_char, ' | ', ent.label_, ' | ', spacy.explain(ent.label_))\n",
    "\n"
   ]
  },
  {
   "cell_type": "code",
   "execution_count": 28,
   "id": "eac7fd14",
   "metadata": {},
   "outputs": [
    {
     "data": {
      "text/plain": [
       "['ner']"
      ]
     },
     "execution_count": 28,
     "metadata": {},
     "output_type": "execute_result"
    }
   ],
   "source": [
    "source_nlp = spacy.load('en_core_web_sm')\n",
    "\n",
    "nlp = spacy.blank('en')\n",
    "nlp.add_pipe('ner', source=source_nlp)\n",
    "nlp.pipe_names"
   ]
  },
  {
   "cell_type": "code",
   "execution_count": 32,
   "id": "efa4427a",
   "metadata": {},
   "outputs": [
    {
     "name": "stdout",
     "output_type": "stream",
     "text": [
      "Tessla  |  0  |  6  |  ORG  |  Companies, agencies, institutions, etc.\n",
      "America  |  34  |  41  |  GPE  |  Countries, cities, states\n"
     ]
    }
   ],
   "source": [
    "doc = nlp('Tessla is a car company  based in America.')\n",
    "\n",
    "for ent in doc.ents:\n",
    "    print(ent.text, ' | ', ent.start_char, ' | ', ent.end_char, ' | ', ent.label_, ' | ', spacy.explain(ent.label_))"
   ]
  },
  {
   "cell_type": "code",
   "execution_count": null,
   "id": "b13f7c84",
   "metadata": {},
   "outputs": [],
   "source": []
  }
 ],
 "metadata": {
  "kernelspec": {
   "display_name": "Python 3",
   "language": "python",
   "name": "python3"
  },
  "language_info": {
   "codemirror_mode": {
    "name": "ipython",
    "version": 3
   },
   "file_extension": ".py",
   "mimetype": "text/x-python",
   "name": "python",
   "nbconvert_exporter": "python",
   "pygments_lexer": "ipython3",
   "version": "3.12.3"
  }
 },
 "nbformat": 4,
 "nbformat_minor": 5
}
