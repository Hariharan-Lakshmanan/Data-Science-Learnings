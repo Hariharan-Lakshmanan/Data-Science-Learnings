{
 "cells": [
  {
   "cell_type": "markdown",
   "id": "bc5a11ec",
   "metadata": {},
   "source": [
    "Part of Speech POS Tagging"
   ]
  },
  {
   "cell_type": "code",
   "execution_count": 2,
   "id": "c15358f2",
   "metadata": {},
   "outputs": [],
   "source": [
    "import spacy"
   ]
  },
  {
   "cell_type": "code",
   "execution_count": 3,
   "id": "1fa226bb",
   "metadata": {},
   "outputs": [],
   "source": [
    "nlp = spacy.load(\"en_core_web_sm\")"
   ]
  },
  {
   "cell_type": "code",
   "execution_count": 5,
   "id": "3d6bbe9d",
   "metadata": {},
   "outputs": [
    {
     "name": "stdout",
     "output_type": "stream",
     "text": [
      "Elon | PROPN | proper noun | NNP | noun, proper singular\n",
      "flew | VERB | verb | VBD | verb, past tense\n",
      "to | ADP | adposition | IN | conjunction, subordinating or preposition\n",
      "mars | NOUN | noun | NNS | noun, plural\n",
      "yesterday | NOUN | noun | NN | noun, singular or mass\n",
      ". | PUNCT | punctuation | . | punctuation mark, sentence closer\n",
      "He | PRON | pronoun | PRP | pronoun, personal\n",
      "carried | VERB | verb | VBD | verb, past tense\n",
      "biriyani | PROPN | proper noun | NNP | noun, proper singular\n",
      "masala | NOUN | noun | NN | noun, singular or mass\n",
      "with | ADP | adposition | IN | conjunction, subordinating or preposition\n",
      "him | PRON | pronoun | PRP | pronoun, personal\n",
      ". | PUNCT | punctuation | . | punctuation mark, sentence closer\n"
     ]
    }
   ],
   "source": [
    "doc = nlp('Elon flew to mars yesterday. He carried biriyani masala with him.')\n",
    "for token in doc:\n",
    "    print(token.text,'|', token.pos_, '|', spacy.explain(token.pos_), '|', token.tag_,'|', spacy.explain(token.tag_))"
   ]
  },
  {
   "cell_type": "markdown",
   "id": "d5324950",
   "metadata": {},
   "source": [
    "Processing Microsoft Earnings Report"
   ]
  },
  {
   "cell_type": "code",
   "execution_count": 10,
   "id": "9d8a0ddc",
   "metadata": {},
   "outputs": [],
   "source": [
    "earnings_text=\"\"\"Microsoft Corp. today announced the following results for the quarter ended December 31, 2021, as compared to the corresponding period of last fiscal year:\n",
    "\n",
    "·         Revenue was $51.7 billion and increased 20%\n",
    "·         Operating income was $22.2 billion and increased 24%\n",
    "·         Net income was $18.8 billion and increased 21%\n",
    "·         Diluted earnings per share was $2.48 and increased 22%\n",
    "“Digital technology is the most malleable resource at the world’s disposal to overcome constraints and reimagine everyday work and life,” said Satya Nadella, chairman and chief executive officer of Microsoft. “As tech as a percentage of global GDP continues to increase, we are innovating and investing across diverse and growing markets, with a common underlying technology stack and an operating model that reinforces a common strategy, culture, and sense of purpose.”\n",
    "“Solid commercial execution, represented by strong bookings growth driven by long-term Azure commitments, increased Microsoft Cloud revenue to $22.1 billion, up 32% year over year” said Amy Hood, executive vice president and chief financial officer of Microsoft.\"\"\"\n",
    "\n",
    "doc = nlp(earnings_text)\n",
    "\n",
    "filtered_tokens = []\n",
    "for token in doc:\n",
    "    if token.pos_ not in ['SPACE', 'PUNCT', 'X']:\n",
    "        filtered_tokens.append(token.text)\n",
    "    "
   ]
  },
  {
   "cell_type": "code",
   "execution_count": 12,
   "id": "8070f017",
   "metadata": {},
   "outputs": [
    {
     "data": {
      "text/plain": [
       "['Microsoft',\n",
       " 'Corp.',\n",
       " 'today',\n",
       " 'announced',\n",
       " 'the',\n",
       " 'following',\n",
       " 'results',\n",
       " 'for',\n",
       " 'the',\n",
       " 'quarter',\n",
       " 'ended',\n",
       " 'December',\n",
       " '31',\n",
       " '2021',\n",
       " 'as',\n",
       " 'compared',\n",
       " 'to',\n",
       " 'the',\n",
       " 'corresponding',\n",
       " 'period']"
      ]
     },
     "execution_count": 12,
     "metadata": {},
     "output_type": "execute_result"
    }
   ],
   "source": [
    "filtered_tokens[:20]"
   ]
  },
  {
   "cell_type": "code",
   "execution_count": 13,
   "id": "4bf5b722",
   "metadata": {},
   "outputs": [
    {
     "data": {
      "text/plain": [
       "{96: 15,\n",
       " 92: 45,\n",
       " 100: 23,\n",
       " 90: 9,\n",
       " 85: 16,\n",
       " 93: 16,\n",
       " 97: 27,\n",
       " 98: 1,\n",
       " 84: 20,\n",
       " 103: 10,\n",
       " 87: 6,\n",
       " 99: 5,\n",
       " 89: 12,\n",
       " 86: 3,\n",
       " 94: 3,\n",
       " 95: 2}"
      ]
     },
     "execution_count": 13,
     "metadata": {},
     "output_type": "execute_result"
    }
   ],
   "source": [
    "count = doc.count_by(spacy.attrs.POS)\n",
    "count"
   ]
  },
  {
   "cell_type": "code",
   "execution_count": 14,
   "id": "53349441",
   "metadata": {},
   "outputs": [
    {
     "data": {
      "text/plain": [
       "'PROPN'"
      ]
     },
     "execution_count": 14,
     "metadata": {},
     "output_type": "execute_result"
    }
   ],
   "source": [
    "doc.vocab[96].text"
   ]
  },
  {
   "cell_type": "code",
   "execution_count": 17,
   "id": "8a6fdbd2",
   "metadata": {},
   "outputs": [
    {
     "name": "stdout",
     "output_type": "stream",
     "text": [
      "PROPN | 15\n",
      "NOUN | 45\n",
      "VERB | 23\n",
      "DET | 9\n",
      "ADP | 16\n",
      "NUM | 16\n",
      "PUNCT | 27\n",
      "SCONJ | 1\n",
      "ADJ | 20\n",
      "SPACE | 10\n",
      "AUX | 6\n",
      "SYM | 5\n",
      "CCONJ | 12\n",
      "ADV | 3\n",
      "PART | 3\n",
      "PRON | 2\n"
     ]
    }
   ],
   "source": [
    "for k, v in count.items():\n",
    "        print(doc.vocab[k].text, '|', v)"
   ]
  },
  {
   "cell_type": "markdown",
   "id": "ca90f0b2",
   "metadata": {},
   "source": [
    "Exercise for Spacy POS tutorial"
   ]
  },
  {
   "cell_type": "markdown",
   "id": "17a0854b",
   "metadata": {},
   "source": [
    "\n",
    "1. You are parsing a news story from cnbc.com. News story is stores in news_story.txt which is available in this same folder on github. You need to,\n",
    "\n",
    "    i> Extract all NOUN tokens from this story. You will have to read the file in python first to collect all the text and then extract NOUNs in a python list.\n",
    "\n",
    "    ii> Extract all numbers (NUM POS type) in a python list.\n",
    "    \n",
    "    iii> Print a count of all POS tags in this story."
   ]
  },
  {
   "cell_type": "markdown",
   "id": "77fa38a6",
   "metadata": {},
   "source": [
    "Read the Story"
   ]
  },
  {
   "cell_type": "code",
   "execution_count": 20,
   "id": "b928bc2f",
   "metadata": {},
   "outputs": [
    {
     "data": {
      "text/plain": [
       "'Inflation rose again in April, continuing a climb that has pushed consumers to the brink and is threatening the economic expansion, the Bureau of Labor Statistics reported Wednesday.\\n\\nThe consumer price index, a broad-based measure of prices for goods and services, increased 8.3% from a year ago, higher than the Dow Jones estimate for an 8.1% gain. That represented a slight ease from Marchâ€™s peak but was still close to the highest level since the summer of 1982.\\n\\nRemoving volatile food and ene'"
      ]
     },
     "execution_count": 20,
     "metadata": {},
     "output_type": "execute_result"
    }
   ],
   "source": [
    "with open('news_story.txt', 'r') as f:\n",
    "    news_text = f.read()\n",
    "\n",
    "news_text[:500]"
   ]
  },
  {
   "cell_type": "markdown",
   "id": "0cd76ab8",
   "metadata": {},
   "source": [
    "Extraction of all NUM and NOUN tokens"
   ]
  },
  {
   "cell_type": "code",
   "execution_count": 21,
   "id": "eba223c0",
   "metadata": {},
   "outputs": [],
   "source": [
    "doc = nlp(news_text)\n",
    "\n",
    "numeral_tokens = []\n",
    "noun_tokens = []\n",
    "for token in doc:\n",
    "    if token.pos_ == 'NUM':\n",
    "        numeral_tokens.append(token.text)\n",
    "    elif token.pos_ == 'NOUN':\n",
    "        noun_tokens.append(token.text)\n",
    "\n"
   ]
  },
  {
   "cell_type": "code",
   "execution_count": 25,
   "id": "16dd805a",
   "metadata": {},
   "outputs": [
    {
     "data": {
      "text/plain": [
       "['8.3', '8.1', '1982', '6.2', '6', '0.3', '0.2', '0.6', '0.4', '0.1']"
      ]
     },
     "execution_count": 25,
     "metadata": {},
     "output_type": "execute_result"
    }
   ],
   "source": [
    "numeral_tokens[:10]"
   ]
  },
  {
   "cell_type": "code",
   "execution_count": 24,
   "id": "145e1760",
   "metadata": {},
   "outputs": [
    {
     "data": {
      "text/plain": [
       "['Inflation',\n",
       " 'climb',\n",
       " 'consumers',\n",
       " 'brink',\n",
       " 'expansion',\n",
       " 'consumer',\n",
       " 'price',\n",
       " 'index',\n",
       " 'measure',\n",
       " 'prices']"
      ]
     },
     "execution_count": 24,
     "metadata": {},
     "output_type": "execute_result"
    }
   ],
   "source": [
    "noun_tokens[:10]"
   ]
  },
  {
   "cell_type": "markdown",
   "id": "bba85a8b",
   "metadata": {},
   "source": []
  },
  {
   "cell_type": "markdown",
   "id": "33f0c2e9",
   "metadata": {},
   "source": [
    "Extraction of all POS tags"
   ]
  },
  {
   "cell_type": "code",
   "execution_count": 26,
   "id": "428b4234",
   "metadata": {},
   "outputs": [
    {
     "data": {
      "text/plain": [
       "{92: 96,\n",
       " 100: 27,\n",
       " 86: 15,\n",
       " 85: 39,\n",
       " 96: 20,\n",
       " 97: 32,\n",
       " 90: 34,\n",
       " 95: 4,\n",
       " 87: 13,\n",
       " 89: 10,\n",
       " 84: 23,\n",
       " 103: 7,\n",
       " 93: 19,\n",
       " 94: 4,\n",
       " 98: 8,\n",
       " 101: 1}"
      ]
     },
     "execution_count": 26,
     "metadata": {},
     "output_type": "execute_result"
    }
   ],
   "source": [
    "count = doc.count_by(spacy.attrs.POS)\n",
    "count"
   ]
  },
  {
   "cell_type": "code",
   "execution_count": 27,
   "id": "53e6613b",
   "metadata": {},
   "outputs": [
    {
     "name": "stdout",
     "output_type": "stream",
     "text": [
      "NOUN | 96\n",
      "VERB | 27\n",
      "ADV | 15\n",
      "ADP | 39\n",
      "PROPN | 20\n",
      "PUNCT | 32\n",
      "DET | 34\n",
      "PRON | 4\n",
      "AUX | 13\n",
      "CCONJ | 10\n",
      "ADJ | 23\n",
      "SPACE | 7\n",
      "NUM | 19\n",
      "PART | 4\n",
      "SCONJ | 8\n",
      "X | 1\n"
     ]
    }
   ],
   "source": [
    "for k, v in count.items():\n",
    "        print(doc.vocab[k].text, '|', v)"
   ]
  },
  {
   "cell_type": "code",
   "execution_count": null,
   "id": "b11fdb87",
   "metadata": {},
   "outputs": [],
   "source": []
  }
 ],
 "metadata": {
  "kernelspec": {
   "display_name": "Python 3",
   "language": "python",
   "name": "python3"
  },
  "language_info": {
   "codemirror_mode": {
    "name": "ipython",
    "version": 3
   },
   "file_extension": ".py",
   "mimetype": "text/x-python",
   "name": "python",
   "nbconvert_exporter": "python",
   "pygments_lexer": "ipython3",
   "version": "3.12.3"
  }
 },
 "nbformat": 4,
 "nbformat_minor": 5
}
